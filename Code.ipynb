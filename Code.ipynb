{
 "cells": [
  {
   "cell_type": "markdown",
   "id": "632d2dbf",
   "metadata": {},
   "source": [
    "##### The University of Melbourne, School of Computing and Information Systems\n",
    "# COMP30027 Machine Learning, 2022 Semester 1\n",
    "\n",
    "## Assignment 2: Sentiment Classification of Tweets\n"
   ]
  },
  {
   "cell_type": "code",
   "execution_count": 1,
   "id": "2daf18ac",
   "metadata": {},
   "outputs": [],
   "source": [
    "import pandas as pd\n",
    "import matplotlib.pyplot as plt\n",
    "import seaborn\n",
    "import re\n",
    "from sklearn.model_selection import train_test_split, KFold, StratifiedKFold\n",
    "import contractions\n",
    "from nltk.stem import PorterStemmer\n",
    "from sklearn.feature_extraction.text import TfidfVectorizer\n",
    "from sklearn.metrics import accuracy_score, confusion_matrix, f1_score, classification_report, recall_score\n",
    "from sklearn import naive_bayes, svm\n",
    "from imblearn.over_sampling import RandomOverSampler\n",
    "from imblearn.under_sampling import RandomUnderSampler\n",
    "from itertools import groupby\n",
    "import seaborn as sns\n",
    "import numpy as np"
   ]
  },
  {
   "cell_type": "markdown",
   "id": "5f9b9b6e",
   "metadata": {},
   "source": [
    "Read the CSV file into dataframes"
   ]
  },
  {
   "cell_type": "code",
   "execution_count": 2,
   "id": "aedb4b8e",
   "metadata": {},
   "outputs": [],
   "source": [
    "data = pd.read_csv(\"Train.csv\", sep=',')"
   ]
  },
  {
   "cell_type": "markdown",
   "id": "6e8eae7b",
   "metadata": {},
   "source": [
    "First, let have a look at the number of instances for each class in our dataset"
   ]
  },
  {
   "cell_type": "code",
   "execution_count": 3,
   "id": "78388430",
   "metadata": {
    "scrolled": true
   },
   "outputs": [
    {
     "data": {
      "image/png": "[encoded data removed]",
      "text/plain": [
       "<Figure size 432x288 with 1 Axes>"
      ]
     },
     "metadata": {},
     "output_type": "display_data"
    }
   ],
   "source": [
    "data['sentiment'].value_counts().plot(kind = 'pie', title = 'Proportion of instances')\n",
    "plt.savefig('proportion.png', dpi = 1000)\n",
    "plt.show()"
   ]
  },
  {
   "cell_type": "code",
   "execution_count": 4,
   "id": "ae48218e",
   "metadata": {
    "scrolled": true
   },
   "outputs": [
    {
     "name": "stdout",
     "output_type": "stream",
     "text": [
      "Percentage of neutral instances: 58.06348041464086%\n",
      "Percentage of positive instances: 24.896798458856985%\n",
      "Percentage of negative instances: 17.039721126502155%\n"
     ]
    }
   ],
   "source": [
    "print(\"Percentage of neutral instances:\", str(data['sentiment'].value_counts()['neutral']/data['sentiment'].value_counts().sum()*100) + '%')\n",
    "print(\"Percentage of positive instances:\", str(data['sentiment'].value_counts()['positive']/data['sentiment'].value_counts().sum()*100) + '%')\n",
    "print(\"Percentage of negative instances:\", str(data['sentiment'].value_counts()['negative']/data['sentiment'].value_counts().sum()*100) + '%')"
   ]
  },
  {
   "cell_type": "markdown",
   "id": "448c117a",
   "metadata": {},
   "source": [
    "Split the dataset into train and test set"
   ]
  },
  {
   "cell_type": "code",
   "execution_count": 5,
   "id": "8ff26fcd",
   "metadata": {},
   "outputs": [],
   "source": [
    "X_train, X_test, y_train, y_test = train_test_split(data['text'], data['sentiment'], test_size=0.2,\\\n",
    "                                                    random_state = 2904 , stratify=data['sentiment'])"
   ]
  },
  {
   "cell_type": "markdown",
   "id": "6d37aafb",
   "metadata": {},
   "source": [
    "Join the instances and labels into the a dataframe to perform sampling"
   ]
  },
  {
   "cell_type": "code",
   "execution_count": 6,
   "id": "92479322",
   "metadata": {},
   "outputs": [],
   "source": [
    "train_data = X_train.to_frame().join(y_train)\n",
    "test_data =  X_test.to_frame().join(y_test)"
   ]
  },
  {
   "cell_type": "markdown",
   "id": "8a4f3054",
   "metadata": {},
   "source": [
    "Use undersample to balance out the distribution of labels"
   ]
  },
  {
   "cell_type": "code",
   "execution_count": 7,
   "id": "b67df959",
   "metadata": {},
   "outputs": [],
   "source": [
    "from imblearn.under_sampling import RandomUnderSampler\n",
    "sampler = RandomUnderSampler(sampling_strategy = 'not minority', random_state = 2001)"
   ]
  },
  {
   "cell_type": "code",
   "execution_count": 8,
   "id": "bce6b61b",
   "metadata": {},
   "outputs": [],
   "source": [
    "train_balanced, y_train_balanced = sampler.fit_resample(train_data, train_data['sentiment'])\n",
    "test_balanced, y_test_balanced = sampler.fit_resample(test_data, test_data['sentiment'])\n",
    "X_train_balanced = train_balanced['text']\n",
    "X_test_balanced = test_balanced['text']"
   ]
  },
  {
   "cell_type": "markdown",
   "id": "e108d550",
   "metadata": {},
   "source": [
    "Function for reprocessing the texts"
   ]
  },
  {
   "cell_type": "code",
   "execution_count": 9,
   "id": "aba75a68",
   "metadata": {
    "scrolled": true
   },
   "outputs": [],
   "source": [
    "from gensim.parsing.preprocessing import STOPWORDS\n",
    "genstops = [x for x in STOPWORDS if x not in ['not', 'nor', 'no']]"
   ]
  },
  {
   "cell_type": "code",
   "execution_count": 10,
   "id": "9cfa0112",
   "metadata": {},
   "outputs": [],
   "source": [
    "import nltk\n",
    "from nltk.corpus import stopwords\n",
    "stops = stopwords.words('english')\n",
    "stops = [x for x in stops if x not in ['not', 'nor', 'no']]"
   ]
  },
  {
   "cell_type": "code",
   "execution_count": 11,
   "id": "c8666839",
   "metadata": {},
   "outputs": [],
   "source": [
    "# define the list for acronyms and abbreviation\n",
    "sym = {\n",
    "    r'wtf' : 'what the fuck',\n",
    "    r'wth' : 'what the hell',\n",
    "    r'rofl': 'rolling on floor laughing',\n",
    "    r'stfu': 'shut the fuck up',\n",
    "    r'icymi': 'in case you missed it',\n",
    "    r'tl;dr': 'too long, didn’t read',\n",
    "    r'lmk': 'let me know',\n",
    "    r'nvm': 'nevermind',\n",
    "    r'tgif': 'thank goodness it’s friday',\n",
    "    r'tbh': 'to be honest',\n",
    "    r'tbf': 'to be frank',\n",
    "    r' rn ': ' right now' ,\n",
    "    r'qotd': 'quote of the day',\n",
    "    r'ootd': 'outfit of the day',\n",
    "    r'brb': 'be right back',\n",
    "    r'btw': 'by the way',\n",
    "    r'lol': 'laugh out loud',\n",
    "    r'ttyl': 'talk to you later',\n",
    "    r'hmu': 'hit me up',\n",
    "    r'fwiw': 'for what it’s worth',\n",
    "    r'imo': 'in my opinion',\n",
    "    r'imho': 'in my humble opinion',\n",
    "    r'idk': 'i don’t know',\n",
    "    r'tba': 'to be announced',\n",
    "    r'tbd': 'to be decided',\n",
    "    r' th ': \" the \",\n",
    "    r'^th ': \"the \",\n",
    "    r' nd ': \" and \",\n",
    "    r' abt ': \" about \",\n",
    "    r'^abt ': \"about \",\n",
    "    r' doin ': \" doing \",\n",
    "    r'^doin ': \" doing \",\n",
    "    r' u ': \" you \",\n",
    "    r'^u ': \" you \",\n",
    "    r' n ': \" and \",\n",
    "    r'^n ': \" and \",\n",
    "    r' cuz ': \" cause \",\n",
    "    r' becuz ': ' because ',\n",
    "    r' be4 ': 'before',\n",
    "    r' bcuz ': 'because'}"
   ]
  },
  {
   "cell_type": "code",
   "execution_count": 12,
   "id": "d8887c34",
   "metadata": {},
   "outputs": [],
   "source": [
    "def reduce_duplicate(word):\n",
    "    \"\"\"\n",
    "    Function to reduce the repeated letter to 2 times only\n",
    "    \"\"\"\n",
    "    temp = []\n",
    "    for letter, letters in groupby(word):\n",
    "        if len(list(letters)) >= 2:\n",
    "            temp.append(letter)\n",
    "            temp.append(letter)\n",
    "        else:\n",
    "            temp.append(letter)\n",
    "    return \"\".join(temp)"
   ]
  },
  {
   "cell_type": "code",
   "execution_count": 13,
   "id": "4c8daffb",
   "metadata": {},
   "outputs": [],
   "source": [
    "ps = PorterStemmer()\n",
    "def preprocess(text):\n",
    "    \"\"\"\n",
    "    Function to preprocess the data\n",
    "    \"\"\"\n",
    "    # clean the hyperlinks, username tags and hashtags\n",
    "    clean_tweet = re.sub(r'(https?:\\/\\/)?([\\da-z\\.-]+)\\.([a-z\\.]{2,6})([\\/\\w \\.-]*)', ' ', text)\n",
    "    clean_tweet = re.sub(r'@[A-Za-z0-9_]+', \" \", clean_tweet)\n",
    "    clean_tweet = re.sub(r'#[A-Za-z0-9_]+', \" \", clean_tweet)\n",
    "    clean_tweet = re.sub(r'&([a-z0-9]+|#[0-9]{1,6}|#x[0-9a-fA-F]{1,6});',\" \", clean_tweet)\n",
    "    \n",
    "    # perform further cleaning, tackling some hyphen mistakes\n",
    "    clean_tweet = re.sub(r'&',\" and \", clean_tweet)\n",
    "    clean_tweet = re.sub(\"´\", \"'\",clean_tweet)\n",
    "    \n",
    "    # remove non English characters\n",
    "    clean_tweet = re.sub(\"[^a-zA-Z0-9' ]+\", \"\",clean_tweet)\n",
    "    \n",
    "    # extract acronym and abbreviations\n",
    "    for x in sym:\n",
    "        clean_tweet = re.sub(x, sym[x], clean_tweet)\n",
    "        \n",
    "    # extract contractions\n",
    "    clean_tweet = contractions.fix(clean_tweet)\n",
    "    clean_tweet.lower()\n",
    "    \n",
    "    # remove all numbers hyphens\n",
    "    clean_tweet = re.sub(\"[^a-zA-Z]+\", \" \",clean_tweet)\n",
    "    \n",
    "    # reduce duplicate letters\n",
    "    clean_tweet = reduce_duplicate(clean_tweet)\n",
    "    \n",
    "    # remove stop words\n",
    "    temp = clean_tweet.split()\n",
    "    removed_stop = [x for x in temp if x not in stops]\n",
    "    removed_stop = [x for x in removed_stop if x not in genstops]\n",
    "    \n",
    "    # perform stemming\n",
    "    stemmed = [ps.stem(x) for x in removed_stop]\n",
    "    cleaned = ' '.join(stemmed)\n",
    "    return cleaned"
   ]
  },
  {
   "cell_type": "markdown",
   "id": "9eb818fb",
   "metadata": {},
   "source": [
    "Apply preprocessing"
   ]
  },
  {
   "cell_type": "code",
   "execution_count": 14,
   "id": "669440ed",
   "metadata": {},
   "outputs": [],
   "source": [
    "X_train = X_train.apply(preprocess)\n",
    "X_train_balanced = X_train_balanced.apply(preprocess)\n",
    "X_test_balanced = X_test_balanced.apply(preprocess)"
   ]
  },
  {
   "cell_type": "code",
   "execution_count": null,
   "id": "fd5b337c",
   "metadata": {},
   "outputs": [],
   "source": []
  },
  {
   "cell_type": "code",
   "execution_count": null,
   "id": "b5e990d7",
   "metadata": {},
   "outputs": [],
   "source": []
  },
  {
   "cell_type": "markdown",
   "id": "6b513476",
   "metadata": {},
   "source": [
    "Perform tfidf vectorizer for imbalanced train set"
   ]
  },
  {
   "cell_type": "code",
   "execution_count": 15,
   "id": "fa39e788",
   "metadata": {},
   "outputs": [
    {
     "name": "stdout",
     "output_type": "stream",
     "text": [
      "Imbalanced train feature space size (using TFIDF): (17441, 15618)\n",
      "Test feature space size (using TFIDF): (2229, 15618)\n"
     ]
    }
   ],
   "source": [
    "from sklearn.feature_extraction.text import TfidfVectorizer\n",
    "\n",
    "tfidf_vectorizer = TfidfVectorizer()\n",
    "\n",
    "#Build the feature set (vocabulary) and vectorise the Tarin dataset using TFIDF\n",
    "X_train_tfidf = tfidf_vectorizer.fit_transform(X_train)\n",
    "\n",
    "#Use the feature set (vocabulary) from Train to vectorise the Test dataset\n",
    "X_test_tfidf = tfidf_vectorizer.transform(X_test_balanced)\n",
    "\n",
    "print(\"Imbalanced train feature space size (using TFIDF):\",X_train_tfidf.shape)\n",
    "print(\"Test feature space size (using TFIDF):\",X_test_tfidf.shape)"
   ]
  },
  {
   "cell_type": "markdown",
   "id": "087d4fe9",
   "metadata": {},
   "source": [
    "Perform tfidf vectorizer for balanced train set"
   ]
  },
  {
   "cell_type": "code",
   "execution_count": 16,
   "id": "a741e74b",
   "metadata": {},
   "outputs": [
    {
     "name": "stdout",
     "output_type": "stream",
     "text": [
      "Imbalanced train feature space size (using TFIDF): (8916, 10703)\n",
      "Test feature space size (using TFIDF): (2229, 10703)\n"
     ]
    }
   ],
   "source": [
    "from sklearn.feature_extraction.text import TfidfVectorizer\n",
    "\n",
    "tfidf_vectorizer_balanced = TfidfVectorizer()\n",
    "\n",
    "#Build the feature set (vocabulary) and vectorise the Tarin dataset using TFIDF\n",
    "X_train_tfidf_balanced = tfidf_vectorizer_balanced.fit_transform(X_train_balanced)\n",
    "\n",
    "#Use the feature set (vocabulary) from Train to vectorise the Test dataset\n",
    "X_test_tfidf_balanced = tfidf_vectorizer_balanced.transform(X_test_balanced)\n",
    "\n",
    "print(\"Imbalanced train feature space size (using TFIDF):\",X_train_tfidf_balanced.shape)\n",
    "print(\"Test feature space size (using TFIDF):\",X_test_tfidf_balanced.shape)"
   ]
  },
  {
   "cell_type": "markdown",
   "id": "83fa2399",
   "metadata": {},
   "source": [
    "A Zero R baseline classifier"
   ]
  },
  {
   "cell_type": "code",
   "execution_count": 18,
   "id": "388a5aa6",
   "metadata": {},
   "outputs": [
    {
     "name": "stdout",
     "output_type": "stream",
     "text": [
      "Baseline accuracy is:  0.3333333333333333\n",
      "Confusion matrix:\n"
     ]
    },
    {
     "data": {
      "image/png": "[encoded data removed]",
      "text/plain": [
       "<Figure size 432x288 with 2 Axes>"
      ]
     },
     "metadata": {
      "needs_background": "light"
     },
     "output_type": "display_data"
    },
    {
     "name": "stdout",
     "output_type": "stream",
     "text": [
      "Classification Report:\n",
      "              precision    recall  f1-score   support\n",
      "\n",
      "    positive       0.00      0.00      0.00       743\n",
      "     neutral       0.33      1.00      0.50       743\n",
      "    negative       0.00      0.00      0.00       743\n",
      "\n",
      "    accuracy                           0.33      2229\n",
      "   macro avg       0.11      0.33      0.17      2229\n",
      "weighted avg       0.11      0.33      0.17      2229\n",
      "\n"
     ]
    }
   ],
   "source": [
    "from sklearn.dummy import DummyClassifier\n",
    "labels = ['positive', 'neutral', 'negative']\n",
    "\n",
    "zeroR = DummyClassifier()\n",
    "zeroR.fit(X_train_tfidf, y_train)\n",
    "y_pred = zeroR.predict(X_test_tfidf)\n",
    "print(\"Baseline accuracy is: \", accuracy_score(y_test_balanced, y_pred))\n",
    "zeroR_matrix = confusion_matrix(y_test_balanced, y_pred)\n",
    "print(\"Confusion matrix:\")\n",
    "sns.heatmap(zeroR_matrix/np.sum(zeroR_matrix), annot=True, fmt='.2%', cmap='Blues')\n",
    "plt.savefig(\"zeroR_heat.png\", dpi = 1000)\n",
    "plt.show()\n",
    "print(\"Classification Report:\")\n",
    "print(classification_report(y_test_balanced, y_pred, labels=labels, zero_division = 0))"
   ]
  },
  {
   "cell_type": "markdown",
   "id": "ab32d0e6",
   "metadata": {},
   "source": [
    "Define parameter for hypertuning"
   ]
  },
  {
   "cell_type": "code",
   "execution_count": 19,
   "id": "88953af9",
   "metadata": {},
   "outputs": [],
   "source": [
    "# features selection\n",
    "variance_thresholds = [0, 0.00001, 0.00002, 0.00003, 0.00004, 0.00005, 0.00006, 0.00007, 0.00008, 0.00009, 0.0001]\n",
    "\n",
    "# Multinomial NB\n",
    "MNB_alpha = [0.2, 0.4, 0.6, 0.8, 1]\n",
    "MNB_fit_prior = [True, False]\n",
    "\n",
    "# Logistic Regression\n",
    "C_LR = [10, 1.0, 0.1]\n",
    "\n",
    "#SVM\n",
    "C_SVM = [10, 1.0, 0.1]\n",
    "\n",
    "\n"
   ]
  },
  {
   "cell_type": "code",
   "execution_count": 20,
   "id": "36b31030",
   "metadata": {
    "scrolled": true
   },
   "outputs": [
    {
     "name": "stdout",
     "output_type": "stream",
     "text": [
      "\n",
      "--------------------------------------- Variance threshold: 0 ------------------------------\n",
      "For imbalanced train set:\n",
      "Vocab size: 15618\n",
      "For balanced train set:\n",
      "Vocab size: 10703\n",
      "\n",
      "--------------------------------------- Variance threshold: 1e-05 ------------------------------\n",
      "For imbalanced train set:\n",
      "Vocab size: 11565\n",
      "For balanced train set:\n",
      "Vocab size: 10540\n",
      "\n",
      "--------------------------------------- Variance threshold: 2e-05 ------------------------------\n",
      "For imbalanced train set:\n",
      "Vocab size: 6780\n",
      "For balanced train set:\n",
      "Vocab size: 7368\n",
      "\n",
      "--------------------------------------- Variance threshold: 3e-05 ------------------------------\n",
      "For imbalanced train set:\n",
      "Vocab size: 5029\n",
      "For balanced train set:\n",
      "Vocab size: 5368\n",
      "\n",
      "--------------------------------------- Variance threshold: 4e-05 ------------------------------\n",
      "For imbalanced train set:\n",
      "Vocab size: 4055\n",
      "For balanced train set:\n",
      "Vocab size: 4328\n",
      "\n",
      "--------------------------------------- Variance threshold: 5e-05 ------------------------------\n",
      "For imbalanced train set:\n",
      "Vocab size: 3417\n",
      "For balanced train set:\n",
      "Vocab size: 3638\n",
      "\n",
      "--------------------------------------- Variance threshold: 6e-05 ------------------------------\n",
      "For imbalanced train set:\n",
      "Vocab size: 2989\n",
      "For balanced train set:\n",
      "Vocab size: 3124\n",
      "\n",
      "--------------------------------------- Variance threshold: 7e-05 ------------------------------\n",
      "For imbalanced train set:\n",
      "Vocab size: 2667\n",
      "For balanced train set:\n",
      "Vocab size: 2771\n",
      "\n",
      "--------------------------------------- Variance threshold: 8e-05 ------------------------------\n",
      "For imbalanced train set:\n",
      "Vocab size: 2385\n",
      "For balanced train set:\n",
      "Vocab size: 2465\n",
      "\n",
      "--------------------------------------- Variance threshold: 9e-05 ------------------------------\n",
      "For imbalanced train set:\n",
      "Vocab size: 2181\n",
      "For balanced train set:\n",
      "Vocab size: 2238\n",
      "\n",
      "--------------------------------------- Variance threshold: 0.0001 ------------------------------\n",
      "For imbalanced train set:\n",
      "Vocab size: 1986\n",
      "For balanced train set:\n",
      "Vocab size: 2053\n"
     ]
    }
   ],
   "source": [
    "from sklearn.feature_selection import VarianceThreshold\n",
    "\n",
    "imb_vocab = []\n",
    "bal_vocab = []\n",
    "\n",
    "for thres in variance_thresholds:\n",
    "    print('\\n--------------------------------------- Variance threshold:', thres,'------------------------------')\n",
    "    varthrs = VarianceThreshold(threshold=thres)\n",
    "    print(\"For imbalanced train set:\")\n",
    "    X_vared = varthrs.fit_transform(X_train_tfidf, y_train)\n",
    "    imb_vocab.append(X_vared.shape[1])\n",
    "    print(\"Vocab size:\", X_vared.shape[1])    \n",
    "    print(\"For balanced train set:\")\n",
    "    X_vared_balanced = varthrs.fit_transform(X_train_tfidf_balanced, y_train_balanced)\n",
    "    bal_vocab.append(X_vared_balanced.shape[1])\n",
    "    print(\"Vocab size:\", X_vared_balanced.shape[1])\n",
    "        "
   ]
  },
  {
   "cell_type": "code",
   "execution_count": 21,
   "id": "f17aa0ae",
   "metadata": {
    "scrolled": true
   },
   "outputs": [
    {
     "data": {
      "text/plain": [
       "[]"
      ]
     },
     "execution_count": 21,
     "metadata": {},
     "output_type": "execute_result"
    },
    {
     "data": {
      "image/png": "[encoded data removed]",
      "text/plain": [
       "<Figure size 432x288 with 1 Axes>"
      ]
     },
     "metadata": {
      "needs_background": "light"
     },
     "output_type": "display_data"
    }
   ],
   "source": [
    "plt.plot(variance_thresholds, imb_vocab, label = \"imbalanced train\")\n",
    "plt.plot(variance_thresholds, bal_vocab, label = \"balanced train\")\n",
    "plt.title(\"Vocabulary size after applying threshold\")\n",
    "plt.xlabel(\"Threshold\")\n",
    "plt.ylabel(\"Vocabulary size\")\n",
    "plt.legend()\n",
    "plt.savefig(\"vocab.png\", dpi = 1000)\n",
    "plt.plot()"
   ]
  },
  {
   "cell_type": "markdown",
   "id": "f76c7374",
   "metadata": {},
   "source": [
    "We choose the threshold to be 0.0002"
   ]
  },
  {
   "cell_type": "code",
   "execution_count": 22,
   "id": "69340201",
   "metadata": {},
   "outputs": [
    {
     "name": "stdout",
     "output_type": "stream",
     "text": [
      "(17441, 5029)\n"
     ]
    }
   ],
   "source": [
    "varthrs = VarianceThreshold(threshold=0.00003)\n",
    "X_vared = varthrs.fit_transform(X_train_tfidf, y_train)\n",
    "X_test_vared = varthrs.transform(X_test_tfidf)\n",
    "print(X_vared.shape)"
   ]
  },
  {
   "cell_type": "code",
   "execution_count": 23,
   "id": "97faf86d",
   "metadata": {
    "scrolled": true
   },
   "outputs": [
    {
     "name": "stdout",
     "output_type": "stream",
     "text": [
      "\n",
      "--------------------------------------- K =  50 ------------------------------\n",
      "MNB accuracy for alpha 0.2 is 0.35262449528936746\n",
      "MNB accuracy for alpha 0.4 is 0.3494840735755944\n",
      "MNB accuracy for alpha 0.6 is 0.34858681022880217\n",
      "MNB accuracy for alpha 0.8 is 0.34768954688200987\n",
      "MNB accuracy for alpha 1 is 0.34679228353521757\n",
      "LR accuracy for C 10 is 0.47868999551368324\n",
      "LR accuracy for C 1.0 is 0.4567070435172723\n",
      "LR accuracy for C 0.1 is 0.3822341857335128\n",
      "SVM accuracy for C 10 is 0.4822790489008524\n",
      "SVM accuracy for C 1.0 is 0.48541947061462537\n",
      "SVM accuracy for C 0.1 is 0.4688200986989681\n",
      "\n",
      "--------------------------------------- K =  100 ------------------------------\n",
      "MNB accuracy for alpha 0.2 is 0.36473755047106327\n",
      "MNB accuracy for alpha 0.4 is 0.3624943921040826\n",
      "MNB accuracy for alpha 0.6 is 0.3598026020637057\n",
      "MNB accuracy for alpha 0.8 is 0.35800807537012114\n",
      "MNB accuracy for alpha 1 is 0.3566621803499327\n",
      "LR accuracy for C 10 is 0.4921489457155675\n",
      "LR accuracy for C 1.0 is 0.46837146702557203\n",
      "LR accuracy for C 0.1 is 0.38806639748766264\n",
      "SVM accuracy for C 10 is 0.500224315836698\n",
      "SVM accuracy for C 1.0 is 0.5105428443248093\n",
      "SVM accuracy for C 0.1 is 0.44010767160161507\n",
      "\n",
      "--------------------------------------- K =  250 ------------------------------\n",
      "MNB accuracy for alpha 0.2 is 0.38806639748766264\n",
      "MNB accuracy for alpha 0.4 is 0.38402871242709735\n",
      "MNB accuracy for alpha 0.6 is 0.3795423956931359\n",
      "MNB accuracy for alpha 0.8 is 0.3781965006729475\n",
      "MNB accuracy for alpha 1 is 0.3772992373261552\n",
      "LR accuracy for C 10 is 0.5257963212202782\n",
      "LR accuracy for C 1.0 is 0.4930462090623598\n",
      "LR accuracy for C 0.1 is 0.3943472409152086\n",
      "SVM accuracy for C 10 is 0.5271422162404665\n",
      "SVM accuracy for C 1.0 is 0.5325257963212203\n",
      "SVM accuracy for C 0.1 is 0.3876177658142665\n",
      "\n",
      "--------------------------------------- K =  500 ------------------------------\n",
      "MNB accuracy for alpha 0.2 is 0.4078061911170929\n",
      "MNB accuracy for alpha 0.4 is 0.4046657694033199\n",
      "MNB accuracy for alpha 0.6 is 0.4006280843427546\n",
      "MNB accuracy for alpha 0.8 is 0.39793629430237776\n",
      "MNB accuracy for alpha 1 is 0.3952445042620009\n",
      "LR accuracy for C 10 is 0.5397039030955586\n",
      "LR accuracy for C 1.0 is 0.506056527590848\n",
      "LR accuracy for C 0.1 is 0.39703903095558546\n",
      "SVM accuracy for C 10 is 0.5289367429340511\n",
      "SVM accuracy for C 1.0 is 0.5280394795872588\n",
      "SVM accuracy for C 0.1 is 0.36563481381785556\n",
      "\n",
      "--------------------------------------- K =  750 ------------------------------\n",
      "MNB accuracy for alpha 0.2 is 0.43248093315388064\n",
      "MNB accuracy for alpha 0.4 is 0.42799461641991926\n",
      "MNB accuracy for alpha 0.6 is 0.42126514131897713\n",
      "MNB accuracy for alpha 0.8 is 0.4154329295648273\n",
      "MNB accuracy for alpha 1 is 0.4096007178106774\n",
      "LR accuracy for C 10 is 0.5576491700314042\n",
      "LR accuracy for C 1.0 is 0.5231045311799013\n",
      "LR accuracy for C 0.1 is 0.4028712427097353\n",
      "SVM accuracy for C 10 is 0.5509196949304621\n",
      "SVM accuracy for C 1.0 is 0.5338716913414087\n",
      "SVM accuracy for C 0.1 is 0.35621354867653654\n",
      "\n",
      "--------------------------------------- K =  1000 ------------------------------\n",
      "MNB accuracy for alpha 0.2 is 0.44638851502916105\n",
      "MNB accuracy for alpha 0.4 is 0.44010767160161507\n",
      "MNB accuracy for alpha 0.6 is 0.43337819650067294\n",
      "MNB accuracy for alpha 0.8 is 0.42620008972633466\n",
      "MNB accuracy for alpha 1 is 0.42216240466576943\n",
      "LR accuracy for C 10 is 0.5639300134589502\n",
      "LR accuracy for C 1.0 is 0.5293853746074473\n",
      "LR accuracy for C 0.1 is 0.40197397936294305\n",
      "SVM accuracy for C 10 is 0.5554060116644235\n",
      "SVM accuracy for C 1.0 is 0.5307312696276357\n",
      "SVM accuracy for C 0.1 is 0.35082996859578286\n",
      "\n",
      "--------------------------------------- K =  2000 ------------------------------\n",
      "MNB accuracy for alpha 0.2 is 0.47330641543292956\n",
      "MNB accuracy for alpha 0.4 is 0.46119336025123375\n",
      "MNB accuracy for alpha 0.6 is 0.45132346343651863\n",
      "MNB accuracy for alpha 0.8 is 0.44728577837595335\n",
      "MNB accuracy for alpha 1 is 0.4383131449080305\n",
      "LR accuracy for C 10 is 0.5652759084791387\n",
      "LR accuracy for C 1.0 is 0.5271422162404665\n",
      "LR accuracy for C 0.1 is 0.40331987438313144\n",
      "SVM accuracy for C 10 is 0.5473306415432929\n",
      "SVM accuracy for C 1.0 is 0.522207267833109\n",
      "SVM accuracy for C 0.1 is 0.3454463885150292\n",
      "\n",
      "--------------------------------------- K =  5000 ------------------------------\n",
      "MNB accuracy for alpha 0.2 is 0.49753252579632123\n",
      "MNB accuracy for alpha 0.4 is 0.480933153880664\n",
      "MNB accuracy for alpha 0.6 is 0.46837146702557203\n",
      "MNB accuracy for alpha 0.8 is 0.4535666218034993\n",
      "MNB accuracy for alpha 1 is 0.4477344100493495\n",
      "LR accuracy for C 10 is 0.566621803499327\n",
      "LR accuracy for C 1.0 is 0.5329744279946165\n",
      "LR accuracy for C 0.1 is 0.4060116644235083\n",
      "SVM accuracy for C 10 is 0.5580978017048004\n",
      "SVM accuracy for C 1.0 is 0.49573799910273664\n",
      "SVM accuracy for C 0.1 is 0.34410049349484073\n",
      "\n",
      "--------------------------------------- K =  5029 ------------------------------\n",
      "MNB accuracy for alpha 0.2 is 0.49753252579632123\n",
      "MNB accuracy for alpha 0.4 is 0.480933153880664\n",
      "MNB accuracy for alpha 0.6 is 0.46657694033198743\n",
      "MNB accuracy for alpha 0.8 is 0.4535666218034993\n",
      "MNB accuracy for alpha 1 is 0.4477344100493495\n",
      "LR accuracy for C 10 is 0.5634813817855541\n",
      "LR accuracy for C 1.0 is 0.5325257963212203\n",
      "LR accuracy for C 0.1 is 0.4060116644235083\n",
      "SVM accuracy for C 10 is 0.5576491700314042\n",
      "SVM accuracy for C 1.0 is 0.49663526244952894\n",
      "SVM accuracy for C 0.1 is 0.34410049349484073\n"
     ]
    }
   ],
   "source": [
    "from sklearn.feature_selection import SelectKBest, chi2\n",
    "from sklearn.linear_model import LogisticRegression\n",
    "from sklearn.svm import SVC\n",
    "\n",
    "for k in [50, 100, 250, 500, 750, 1000, 2000, 5000, X_vared.shape[1]]:\n",
    "    # Doing MNB\n",
    "    print('\\n--------------------------------------- K = ', k,'------------------------------')\n",
    "    x2 = SelectKBest(chi2, k=k)\n",
    "    x2.fit(X_vared,y_train)\n",
    "    X_train_x2 = x2.transform(X_vared)\n",
    "    X_test_x2 = x2.transform(X_test_vared)\n",
    "    for alpha in MNB_alpha:\n",
    "        MNB = naive_bayes.MultinomialNB(alpha = alpha)\n",
    "        MNB.fit(X_train_x2, y_train)\n",
    "        y_pred_MNB = MNB.predict(X_test_x2)\n",
    "        print(\"MNB accuracy for alpha\", alpha, \"is\", accuracy_score(y_test_balanced, y_pred_MNB))\n",
    "\n",
    "    for C in C_LR:\n",
    "        LR = LogisticRegression(C = C,max_iter = 1000)\n",
    "        LR.fit(X_train_x2, y_train)\n",
    "        y_pred_LR = LR.predict(X_test_x2)\n",
    "        print(\"LR accuracy for C\", C, \"is\", accuracy_score(y_test_balanced, y_pred_LR))\n",
    "        \n",
    "    for C in C_SVM:\n",
    "        SVM = SVC(C=C)\n",
    "        SVM.fit(X_train_x2, y_train)\n",
    "        y_pred_SVM = SVM.predict(X_test_x2)\n",
    "        print(\"SVM accuracy for C\", C, \"is\", accuracy_score(y_test_balanced, y_pred_SVM))\n",
    "        \n",
    "\n",
    "\n"
   ]
  },
  {
   "cell_type": "code",
   "execution_count": 24,
   "id": "e8e7c3a9",
   "metadata": {},
   "outputs": [
    {
     "name": "stdout",
     "output_type": "stream",
     "text": [
      "(8916, 5368)\n"
     ]
    }
   ],
   "source": [
    "varthrs = VarianceThreshold(threshold=0.00003)\n",
    "X_vared_balanced = varthrs.fit_transform(X_train_tfidf_balanced, y_train_balanced)\n",
    "X_test_vared_balanced = varthrs.transform(X_test_tfidf_balanced)\n",
    "print(X_vared_balanced.shape)"
   ]
  },
  {
   "cell_type": "code",
   "execution_count": 25,
   "id": "97ec195f",
   "metadata": {
    "scrolled": true
   },
   "outputs": [
    {
     "name": "stdout",
     "output_type": "stream",
     "text": [
      "\n",
      "--------------------------------------- K =  50 ------------------------------\n",
      "MNB accuracy for alpha 0.2 is 0.48721399730820997\n",
      "MNB accuracy for alpha 0.4 is 0.4876626289816061\n",
      "MNB accuracy for alpha 0.6 is 0.4876626289816061\n",
      "MNB accuracy for alpha 0.8 is 0.4867653656348138\n",
      "MNB accuracy for alpha 1 is 0.4876626289816061\n",
      "LR accuracy for C 10 is 0.5455361148497084\n",
      "LR accuracy for C 1.0 is 0.5500224315836698\n",
      "LR accuracy for C 0.1 is 0.5459847465231046\n",
      "SVM accuracy for C 10 is 0.5392552714221625\n",
      "SVM accuracy for C 1.0 is 0.5473306415432929\n",
      "SVM accuracy for C 0.1 is 0.5356662180349933\n",
      "\n",
      "--------------------------------------- K =  100 ------------------------------\n",
      "MNB accuracy for alpha 0.2 is 0.5154777927321669\n",
      "MNB accuracy for alpha 0.4 is 0.5181695827725438\n",
      "MNB accuracy for alpha 0.6 is 0.5248990578734859\n",
      "MNB accuracy for alpha 0.8 is 0.5248990578734859\n",
      "MNB accuracy for alpha 1 is 0.5244504262000897\n",
      "LR accuracy for C 10 is 0.5715567519066846\n",
      "LR accuracy for C 1.0 is 0.5746971736204576\n",
      "LR accuracy for C 0.1 is 0.5769403319874383\n",
      "SVM accuracy for C 10 is 0.5634813817855541\n",
      "SVM accuracy for C 1.0 is 0.5769403319874383\n",
      "SVM accuracy for C 0.1 is 0.5643786451323464\n",
      "\n",
      "--------------------------------------- K =  250 ------------------------------\n",
      "MNB accuracy for alpha 0.2 is 0.5702108568864962\n",
      "MNB accuracy for alpha 0.4 is 0.5737999102736653\n",
      "MNB accuracy for alpha 0.6 is 0.5724540152534769\n",
      "MNB accuracy for alpha 0.8 is 0.5706594885598923\n",
      "MNB accuracy for alpha 1 is 0.5715567519066846\n",
      "LR accuracy for C 10 is 0.5921938088829072\n",
      "LR accuracy for C 1.0 is 0.5966801256168686\n",
      "LR accuracy for C 0.1 is 0.5939883355764917\n",
      "SVM accuracy for C 10 is 0.5737999102736653\n",
      "SVM accuracy for C 1.0 is 0.5868102288021534\n",
      "SVM accuracy for C 0.1 is 0.5818752803947959\n",
      "\n",
      "--------------------------------------- K =  500 ------------------------------\n",
      "MNB accuracy for alpha 0.2 is 0.585464333781965\n",
      "MNB accuracy for alpha 0.4 is 0.5859129654553612\n",
      "MNB accuracy for alpha 0.6 is 0.5863615971287572\n",
      "MNB accuracy for alpha 0.8 is 0.5863615971287572\n",
      "MNB accuracy for alpha 1 is 0.5859129654553612\n",
      "LR accuracy for C 10 is 0.6065500224315836\n",
      "LR accuracy for C 1.0 is 0.6083445491251682\n",
      "LR accuracy for C 0.1 is 0.6083445491251682\n",
      "SVM accuracy for C 10 is 0.5737999102736653\n",
      "SVM accuracy for C 1.0 is 0.6069986541049798\n",
      "SVM accuracy for C 0.1 is 0.5903992821893226\n",
      "\n",
      "--------------------------------------- K =  750 ------------------------------\n",
      "MNB accuracy for alpha 0.2 is 0.5944369672498878\n",
      "MNB accuracy for alpha 0.4 is 0.594885598923284\n",
      "MNB accuracy for alpha 0.6 is 0.5935397039030955\n",
      "MNB accuracy for alpha 0.8 is 0.5926424405563033\n",
      "MNB accuracy for alpha 1 is 0.591745177209511\n",
      "LR accuracy for C 10 is 0.6164199192462988\n",
      "LR accuracy for C 1.0 is 0.6186630776132795\n",
      "LR accuracy for C 0.1 is 0.6092418124719605\n",
      "SVM accuracy for C 10 is 0.5877074921489457\n",
      "SVM accuracy for C 1.0 is 0.6137281292059219\n",
      "SVM accuracy for C 0.1 is 0.5966801256168686\n",
      "\n",
      "--------------------------------------- K =  1000 ------------------------------\n",
      "MNB accuracy for alpha 0.2 is 0.5903992821893226\n",
      "MNB accuracy for alpha 0.4 is 0.5899506505159264\n",
      "MNB accuracy for alpha 0.6 is 0.5912965455361149\n",
      "MNB accuracy for alpha 0.8 is 0.5935397039030955\n",
      "MNB accuracy for alpha 1 is 0.594885598923284\n",
      "LR accuracy for C 10 is 0.6119336025123374\n",
      "LR accuracy for C 1.0 is 0.6159712875729026\n",
      "LR accuracy for C 0.1 is 0.6087931807985644\n",
      "SVM accuracy for C 10 is 0.5796321220278151\n",
      "SVM accuracy for C 1.0 is 0.6056527590847914\n",
      "SVM accuracy for C 0.1 is 0.5903992821893226\n",
      "\n",
      "--------------------------------------- K =  2000 ------------------------------\n",
      "MNB accuracy for alpha 0.2 is 0.6114849708389413\n",
      "MNB accuracy for alpha 0.4 is 0.6101390758187528\n",
      "MNB accuracy for alpha 0.6 is 0.6092418124719605\n",
      "MNB accuracy for alpha 0.8 is 0.6101390758187528\n",
      "MNB accuracy for alpha 1 is 0.6083445491251682\n",
      "LR accuracy for C 10 is 0.6110363391655451\n",
      "LR accuracy for C 1.0 is 0.6222521310004486\n",
      "LR accuracy for C 0.1 is 0.6083445491251682\n",
      "SVM accuracy for C 10 is 0.5993719156572453\n",
      "SVM accuracy for C 1.0 is 0.6173171825930911\n",
      "SVM accuracy for C 0.1 is 0.5930910722296994\n",
      "\n",
      "--------------------------------------- K =  5000 ------------------------------\n",
      "MNB accuracy for alpha 0.2 is 0.6011664423508299\n",
      "MNB accuracy for alpha 0.4 is 0.6065500224315836\n",
      "MNB accuracy for alpha 0.6 is 0.6083445491251682\n",
      "MNB accuracy for alpha 0.8 is 0.6123822341857336\n",
      "MNB accuracy for alpha 1 is 0.614176760879318\n",
      "LR accuracy for C 10 is 0.5966801256168686\n",
      "LR accuracy for C 1.0 is 0.6312247644683715\n",
      "LR accuracy for C 0.1 is 0.6195603409600717\n",
      "SVM accuracy for C 10 is 0.6078959174517721\n",
      "SVM accuracy for C 1.0 is 0.6186630776132795\n",
      "SVM accuracy for C 0.1 is 0.5486765365634814\n",
      "\n",
      "--------------------------------------- K =  5368 ------------------------------\n",
      "MNB accuracy for alpha 0.2 is 0.6020637056976222\n",
      "MNB accuracy for alpha 0.4 is 0.6061013907581875\n",
      "MNB accuracy for alpha 0.6 is 0.6092418124719605\n",
      "MNB accuracy for alpha 0.8 is 0.6146253925527142\n",
      "MNB accuracy for alpha 1 is 0.614176760879318\n",
      "LR accuracy for C 10 is 0.598026020637057\n",
      "LR accuracy for C 1.0 is 0.6285329744279946\n",
      "LR accuracy for C 0.1 is 0.6191117092866757\n",
      "SVM accuracy for C 10 is 0.610587707492149\n",
      "SVM accuracy for C 1.0 is 0.6249439210408255\n",
      "SVM accuracy for C 0.1 is 0.5262449528936743\n"
     ]
    }
   ],
   "source": [
    "from sklearn.feature_selection import SelectKBest, chi2\n",
    "from sklearn.linear_model import LogisticRegression\n",
    "\n",
    "for k in [50, 100, 250, 500, 750, 1000, 2000, 5000, X_vared_balanced.shape[1]]:\n",
    "    # Doing MNB\n",
    "    print('\\n--------------------------------------- K = ', k,'------------------------------')\n",
    "    x2_balanced = SelectKBest(chi2, k=k)\n",
    "    x2_balanced.fit(X_vared_balanced,y_train_balanced)\n",
    "    X_train_x2_balanced = x2_balanced.transform(X_vared_balanced)\n",
    "    X_test_x2_balanced = x2_balanced.transform(X_test_vared_balanced)\n",
    "    for alpha in MNB_alpha:\n",
    "        MNB = naive_bayes.MultinomialNB(alpha = alpha)\n",
    "        MNB.fit(X_train_x2_balanced, y_train_balanced)\n",
    "        y_pred_MNB_balanced = MNB.predict(X_test_x2_balanced)\n",
    "        print(\"MNB accuracy for alpha\", alpha, \"is\", accuracy_score(y_test_balanced, y_pred_MNB_balanced))\n",
    "        \n",
    "    for C in C_LR:\n",
    "        LR = LogisticRegression(C = C,max_iter = 1000)\n",
    "        LR.fit(X_train_x2_balanced, y_train_balanced)\n",
    "        y_pred_LR_balanced = LR.predict(X_test_x2_balanced)\n",
    "        print(\"LR accuracy for C\", C, \"is\", accuracy_score(y_test_balanced, y_pred_LR_balanced))\n",
    "        \n",
    "    for C in C_SVM:\n",
    "        SVM = SVC(C=C)\n",
    "        SVM.fit(X_train_x2_balanced, y_train_balanced)\n",
    "        y_pred_SVM_balanced = SVM.predict(X_test_x2_balanced)\n",
    "        print(\"SVM accuracy for C\", C, \"is\", accuracy_score(y_test_balanced, y_pred_SVM_balanced))\n"
   ]
  },
  {
   "cell_type": "markdown",
   "id": "a99603ac",
   "metadata": {},
   "source": [
    "Throughout the test runs, we choose to use our model with the balanced train set, which give a lot higher accuracy than the imblanced one, and the number K of feature to use is K=2000. Other hyperparameter tuning give these following choices "
   ]
  },
  {
   "cell_type": "markdown",
   "id": "25fcc08b",
   "metadata": {},
   "source": [
    "    - For MNB, since there is no big different between the alpha values, then alpha = 1 (Laplace smoothing)\n",
    "    - For LR, the accuracy is highest when C = 1.0\n",
    "    - For SVM, the accuracy is highest when C = 1.0"
   ]
  },
  {
   "cell_type": "markdown",
   "id": "11e56e59",
   "metadata": {},
   "source": [
    "Select the best features and then define the models with our best parameter"
   ]
  },
  {
   "cell_type": "code",
   "execution_count": 26,
   "id": "d3ba7d72",
   "metadata": {
    "scrolled": false
   },
   "outputs": [
    {
     "name": "stdout",
     "output_type": "stream",
     "text": [
      "\n",
      "---------------------------------------For imbalanced trainset------------------------------\n",
      "Multinominal Naive Bayes------------------------------\n",
      "MNB accuracy is 0.4383131449080305\n",
      "Confusion matrix:\n",
      "[[177 565   1]\n",
      " [ 29 707   7]\n",
      " [  8 642  93]]\n"
     ]
    },
    {
     "data": {
      "image/png": "[encoded data removed]",
      "text/plain": [
       "<Figure size 432x288 with 2 Axes>"
      ]
     },
     "metadata": {
      "needs_background": "light"
     },
     "output_type": "display_data"
    },
    {
     "name": "stdout",
     "output_type": "stream",
     "text": [
      "              precision    recall  f1-score   support\n",
      "\n",
      "    positive       0.83      0.24      0.37       743\n",
      "     neutral       0.37      0.95      0.53       743\n",
      "    negative       0.92      0.13      0.22       743\n",
      "\n",
      "    accuracy                           0.44      2229\n",
      "   macro avg       0.71      0.44      0.37      2229\n",
      "weighted avg       0.71      0.44      0.37      2229\n",
      "\n",
      "LogisticRegression------------------------------\n",
      "LR accuracy is 0.5271422162404665\n",
      "Confusion matrix:\n",
      "[[319 414  10]\n",
      " [ 70 648  25]\n",
      " [ 19 516 208]]\n"
     ]
    },
    {
     "data": {
      "image/png": "[encoded data removed]",
      "text/plain": [
       "<Figure size 432x288 with 2 Axes>"
      ]
     },
     "metadata": {
      "needs_background": "light"
     },
     "output_type": "display_data"
    },
    {
     "name": "stdout",
     "output_type": "stream",
     "text": [
      "Classification Report:\n",
      "              precision    recall  f1-score   support\n",
      "\n",
      "    positive       0.78      0.43      0.55       743\n",
      "     neutral       0.41      0.87      0.56       743\n",
      "    negative       0.86      0.28      0.42       743\n",
      "\n",
      "    accuracy                           0.53      2229\n",
      "   macro avg       0.68      0.53      0.51      2229\n",
      "weighted avg       0.68      0.53      0.51      2229\n",
      "\n",
      "Support Vector Machine------------------------------\n",
      "SVM accuracy is 0.522207267833109\n",
      "Confusion matrix:\n",
      "[[304 432   7]\n",
      " [ 54 671  18]\n",
      " [ 13 541 189]]\n"
     ]
    },
    {
     "data": {
      "image/png": "[encoded data removed]",
      "text/plain": [
       "<Figure size 432x288 with 2 Axes>"
      ]
     },
     "metadata": {
      "needs_background": "light"
     },
     "output_type": "display_data"
    },
    {
     "name": "stdout",
     "output_type": "stream",
     "text": [
      "Classification Report:\n",
      "              precision    recall  f1-score   support\n",
      "\n",
      "    positive       0.82      0.41      0.55       743\n",
      "     neutral       0.41      0.90      0.56       743\n",
      "    negative       0.88      0.25      0.39       743\n",
      "\n",
      "    accuracy                           0.52      2229\n",
      "   macro avg       0.70      0.52      0.50      2229\n",
      "weighted avg       0.70      0.52      0.50      2229\n",
      "\n",
      "\n",
      "---------------------------------------For balanced trainset------------------------------\n",
      "Multinominal Naive Bayes------------------------------\n",
      "MNB accuracy is 0.6083445491251682\n",
      "Confusion matrix:\n",
      "[[573 103  67]\n",
      " [285 266 192]\n",
      " [101 125 517]]\n"
     ]
    },
    {
     "data": {
      "image/png": "[encoded data removed]",
      "text/plain": [
       "<Figure size 432x288 with 2 Axes>"
      ]
     },
     "metadata": {
      "needs_background": "light"
     },
     "output_type": "display_data"
    },
    {
     "name": "stdout",
     "output_type": "stream",
     "text": [
      "Classification Report:\n",
      "              precision    recall  f1-score   support\n",
      "\n",
      "    positive       0.60      0.77      0.67       743\n",
      "     neutral       0.54      0.36      0.43       743\n",
      "    negative       0.67      0.70      0.68       743\n",
      "\n",
      "    accuracy                           0.61      2229\n",
      "   macro avg       0.60      0.61      0.59      2229\n",
      "weighted avg       0.60      0.61      0.59      2229\n",
      "\n",
      "LogisticRegression------------------------------\n",
      "LR accuracy is 0.6222521310004486\n",
      "Confusion matrix:\n",
      "[[526 174  43]\n",
      " [224 357 162]\n",
      " [ 66 173 504]]\n"
     ]
    },
    {
     "data": {
      "image/png": "[encoded data removed]",
      "text/plain": [
       "<Figure size 432x288 with 2 Axes>"
      ]
     },
     "metadata": {
      "needs_background": "light"
     },
     "output_type": "display_data"
    },
    {
     "name": "stdout",
     "output_type": "stream",
     "text": [
      "Classification Report:\n",
      "              precision    recall  f1-score   support\n",
      "\n",
      "    positive       0.64      0.71      0.67       743\n",
      "     neutral       0.51      0.48      0.49       743\n",
      "    negative       0.71      0.68      0.69       743\n",
      "\n",
      "    accuracy                           0.62      2229\n",
      "   macro avg       0.62      0.62      0.62      2229\n",
      "weighted avg       0.62      0.62      0.62      2229\n",
      "\n",
      "Support Vector Machine------------------------------\n",
      "SVM accuracy is 0.6173171825930911\n",
      "Confusion matrix:\n",
      "[[514 182  47]\n",
      " [220 357 166]\n",
      " [ 68 170 505]]\n"
     ]
    },
    {
     "data": {
      "image/png": "[encoded data removed]",
      "text/plain": [
       "<Figure size 432x288 with 2 Axes>"
      ]
     },
     "metadata": {
      "needs_background": "light"
     },
     "output_type": "display_data"
    },
    {
     "name": "stdout",
     "output_type": "stream",
     "text": [
      "Classification Report:\n",
      "              precision    recall  f1-score   support\n",
      "\n",
      "    positive       0.64      0.69      0.67       743\n",
      "     neutral       0.50      0.48      0.49       743\n",
      "    negative       0.70      0.68      0.69       743\n",
      "\n",
      "    accuracy                           0.62      2229\n",
      "   macro avg       0.62      0.62      0.62      2229\n",
      "weighted avg       0.62      0.62      0.62      2229\n",
      "\n"
     ]
    }
   ],
   "source": [
    "import seaborn as sns\n",
    "import numpy as np\n",
    "\n",
    "labels = ['positive', 'neutral', 'negative']\n",
    "\n",
    "# For imbalanced set\n",
    "x2 = SelectKBest(chi2, k=2000)\n",
    "x2.fit(X_vared,y_train)\n",
    "X_train_x2 = x2.transform(X_vared)\n",
    "X_test_x2 = x2.transform(X_test_vared)\n",
    "\n",
    "\n",
    "print('\\n---------------------------------------For imbalanced trainset------------------------------')\n",
    "# MNB\n",
    "print(\"Multinominal Naive Bayes------------------------------\")\n",
    "MNB = naive_bayes.MultinomialNB(alpha = 1)\n",
    "MNB.fit(X_train_x2, y_train)\n",
    "y_pred_MNB = MNB.predict(X_test_x2)\n",
    "print(\"MNB accuracy is\", accuracy_score(y_test_balanced, y_pred_MNB))\n",
    "MNB_matrix = confusion_matrix(y_test_balanced, y_pred_MNB, labels=labels)\n",
    "print(\"Confusion matrix:\")\n",
    "print(MNB_matrix)\n",
    "sns.heatmap(MNB_matrix/np.sum(MNB_matrix), annot=True, fmt='.2%', cmap='Blues', yticklabels=labels, xticklabels=labels)\n",
    "plt.savefig(\"imb_MNB_heat.png\", dpi = 1000)\n",
    "plt.show()\n",
    "print(classification_report(y_test_balanced, y_pred_MNB, labels=labels))\n",
    "\n",
    "# LR\n",
    "print(\"LogisticRegression------------------------------\")\n",
    "LR = LogisticRegression(C = 1,max_iter = 1000)\n",
    "LR.fit(X_train_x2, y_train)\n",
    "y_pred_LR = LR.predict(X_test_x2)\n",
    "print(\"LR accuracy is\", accuracy_score(y_test_balanced, y_pred_LR))\n",
    "LR_matrix = confusion_matrix(y_test_balanced, y_pred_LR, labels=labels)\n",
    "print(\"Confusion matrix:\")\n",
    "print(LR_matrix)\n",
    "sns.heatmap(LR_matrix/np.sum(LR_matrix), annot=True, fmt='.2%', cmap='Blues', yticklabels=labels, xticklabels=labels)\n",
    "plt.savefig(\"imb_LR_heat.png\", dpi = 1000)\n",
    "plt.show()\n",
    "print(\"Classification Report:\")\n",
    "print(classification_report(y_test_balanced, y_pred_LR, labels=labels))\n",
    "\n",
    "# SVM\n",
    "print(\"Support Vector Machine------------------------------\")\n",
    "SVM = SVC(C=1)\n",
    "SVM.fit(X_train_x2, y_train)\n",
    "y_pred_SVM = SVM.predict(X_test_x2)\n",
    "print(\"SVM accuracy is\", accuracy_score(y_test_balanced, y_pred_SVM))\n",
    "SVM_matrix = confusion_matrix(y_test_balanced, y_pred_SVM, labels=labels)\n",
    "print(\"Confusion matrix:\")\n",
    "print(SVM_matrix)\n",
    "sns.heatmap(SVM_matrix/np.sum(SVM_matrix), annot=True, fmt='.2%', cmap='Blues', yticklabels=labels, xticklabels=labels)\n",
    "plt.savefig(\"imb_SVM_heat.png\", dpi = 1000)\n",
    "plt.show()\n",
    "print(\"Classification Report:\")\n",
    "print(classification_report(y_test_balanced, y_pred_SVM, labels=labels))\n",
    "\n",
    "# For balanced set\n",
    "x2_balanced = SelectKBest(chi2, k=2000)\n",
    "x2_balanced.fit(X_vared_balanced,y_train_balanced)\n",
    "X_train_x2_balanced = x2_balanced.transform(X_vared_balanced)\n",
    "X_test_x2_balanced = x2_balanced.transform(X_test_vared_balanced)\n",
    "\n",
    "print('\\n---------------------------------------For balanced trainset------------------------------')\n",
    "#MNB\n",
    "print(\"Multinominal Naive Bayes------------------------------\")\n",
    "MNB = naive_bayes.MultinomialNB(alpha = 1)\n",
    "MNB.fit(X_train_x2_balanced, y_train_balanced)\n",
    "y_pred_MNB_balanced = MNB.predict(X_test_x2_balanced)\n",
    "print(\"MNB accuracy is\", accuracy_score(y_test_balanced, y_pred_MNB_balanced))\n",
    "MNB_matrix_balanced = confusion_matrix(y_test_balanced, y_pred_MNB_balanced, labels=labels)\n",
    "print(\"Confusion matrix:\")\n",
    "print(MNB_matrix_balanced)\n",
    "sns.heatmap(MNB_matrix_balanced/np.sum(MNB_matrix_balanced), annot=True, fmt='.2%', cmap='Blues', yticklabels=labels, xticklabels=labels)\n",
    "plt.savefig(\"MNB_heat.png\", dpi = 1000)\n",
    "plt.show()\n",
    "print(\"Classification Report:\")\n",
    "print(classification_report(y_test_balanced, y_pred_MNB_balanced, labels=labels))\n",
    "\n",
    "#LR\n",
    "print(\"LogisticRegression------------------------------\")\n",
    "LR = LogisticRegression(C = 1,max_iter = 1000)\n",
    "LR.fit(X_train_x2_balanced, y_train_balanced)\n",
    "y_pred_LR_balanced = LR.predict(X_test_x2_balanced)\n",
    "print(\"LR accuracy is\", accuracy_score(y_test_balanced, y_pred_LR_balanced))\n",
    "LR_matrix_balanced = confusion_matrix(y_test_balanced, y_pred_LR_balanced, labels=labels)\n",
    "print(\"Confusion matrix:\")\n",
    "print(LR_matrix_balanced)\n",
    "sns.heatmap(LR_matrix_balanced/np.sum(LR_matrix_balanced), annot=True, fmt='.2%', cmap='Blues', yticklabels=labels, xticklabels=labels)\n",
    "plt.savefig(\"LR_heat.png\", dpi = 1000)\n",
    "plt.show()\n",
    "print(\"Classification Report:\")\n",
    "print(classification_report(y_test_balanced, y_pred_LR_balanced, labels=labels))\n",
    "\n",
    "#SVM\n",
    "print(\"Support Vector Machine------------------------------\")\n",
    "SVM = SVC(C=1)\n",
    "SVM.fit(X_train_x2_balanced, y_train_balanced)\n",
    "y_pred_SVM_balanced = SVM.predict(X_test_x2_balanced)\n",
    "print(\"SVM accuracy is\", accuracy_score(y_test_balanced, y_pred_SVM_balanced))\n",
    "SVM_matrix_balanced = confusion_matrix(y_test_balanced, y_pred_SVM_balanced, labels=labels)\n",
    "print(\"Confusion matrix:\")\n",
    "print(SVM_matrix_balanced)\n",
    "sns.heatmap(SVM_matrix_balanced/np.sum(SVM_matrix_balanced), annot=True, fmt='.2%', cmap='Blues', yticklabels=labels, xticklabels=labels)\n",
    "plt.savefig(\"SVM_heat.png\", dpi = 1000)\n",
    "plt.show()\n",
    "print(\"Classification Report:\")\n",
    "print(classification_report(y_test_balanced, y_pred_SVM_balanced, labels=labels))\n",
    "\n",
    "\n"
   ]
  },
  {
   "cell_type": "markdown",
   "id": "aafa26d8",
   "metadata": {},
   "source": [
    "Run the SVM model for the Kaggle data"
   ]
  },
  {
   "cell_type": "code",
   "execution_count": 27,
   "id": "0a3ca2fc",
   "metadata": {},
   "outputs": [],
   "source": [
    "# Learining\n",
    "varthrs = VarianceThreshold(threshold=0.00003)\n",
    "X_vared_balanced = varthrs.fit_transform(X_train_tfidf_balanced, y_train_balanced)\n",
    "x2_balanced = SelectKBest(chi2, k=2000)\n",
    "x2_balanced.fit(X_vared_balanced,y_train_balanced)\n",
    "X_train_x2_balanced = x2_balanced.transform(X_vared_balanced)\n",
    "X_test_x2_balanced = x2_balanced.transform(X_test_vared_balanced)\n",
    "SVM = SVC(C=1)\n",
    "SVM.fit(X_train_x2_balanced, y_train_balanced)\n",
    "\n",
    "\n",
    "# Run on Kaggle data\n",
    "kaggle_data = pd.read_csv(\"Test.csv\", sep=',')\n",
    "test = kaggle_data['text']\n",
    "test = test.apply(preprocess)\n",
    "kaggle_test_tfidf = tfidf_vectorizer_balanced.transform(test)\n",
    "kaggle_vared = varthrs.transform(kaggle_test_tfidf)\n",
    "kaggle_test_x2 = x2_balanced.transform(kaggle_vared)\n",
    "\n",
    "kaggle_pred = LR.predict(kaggle_test_x2)\n",
    "kaggle_data['sentiment'] = kaggle_pred\n",
    "kaggle_data = kaggle_data.drop('text', axis = 1)\n",
    "kaggle_data = kaggle_data.set_index('id')\n",
    "kaggle_data.to_csv(\"kaggle.csv\")"
   ]
  },
  {
   "cell_type": "markdown",
   "id": "ca7f1bae",
   "metadata": {},
   "source": [
    "Get data for learning curves"
   ]
  },
  {
   "cell_type": "code",
   "execution_count": 28,
   "id": "24684f8f",
   "metadata": {},
   "outputs": [],
   "source": [
    "imb_MNB_test_score = []\n",
    "imb_MNB_train_score = []\n",
    "imb_LR_test_score = []\n",
    "imb_LR_train_score = []\n",
    "imb_SVM_test_score = []\n",
    "imb_SVM_train_score = []\n",
    "\n",
    "MNB_test_score = []\n",
    "MNB_train_score = []\n",
    "LR_test_score = []\n",
    "LR_train_score = []\n",
    "SVM_test_score = []\n",
    "SVM_train_score = []\n",
    "\n",
    "for train_size in [0.1, 0.2, 0.3, 0.4, 0.5, 0.6, 0.7, 0.8]:\n",
    "    X_train, X_test, y_train, y_test = train_test_split(data['text'], data['sentiment'], train_size=train_size,\\\n",
    "                                                    random_state = 2904 , stratify=data['sentiment'])\n",
    "    train_data = X_train.to_frame().join(y_train)\n",
    "    test_data =  X_test.to_frame().join(y_test)\n",
    "    sampler = RandomUnderSampler(sampling_strategy = 'not minority', random_state = 2001)\n",
    "    train_balanced, y_train_balanced = sampler.fit_resample(train_data, train_data['sentiment'])\n",
    "    test_balanced, y_test_balanced = sampler.fit_resample(test_data, test_data['sentiment'])\n",
    "    X_train_balanced = train_balanced['text']\n",
    "    X_test_balanced = test_balanced['text']\n",
    "    X_train = X_train.apply(preprocess)\n",
    "    X_train_balanced = X_train_balanced.apply(preprocess)\n",
    "    X_test_balanced = X_test_balanced.apply(preprocess)\n",
    "    \n",
    "    # Tfidf Vectorizer\n",
    "    tfidf_vectorizer = TfidfVectorizer()\n",
    "\n",
    "    #Build the feature set (vocabulary) and vectorise the Tarin dataset using TFIDF\n",
    "    X_train_tfidf = tfidf_vectorizer.fit_transform(X_train)\n",
    "\n",
    "    #Use the feature set (vocabulary) from Train to vectorise the Test dataset\n",
    "    X_test_tfidf = tfidf_vectorizer.transform(X_test_balanced)\n",
    "    \n",
    "    # Tfidf Vectorizer\n",
    "    tfidf_vectorizer_balanced = TfidfVectorizer()\n",
    "\n",
    "    #Build the feature set (vocabulary) and vectorise the Tarin dataset using TFIDF\n",
    "    X_train_tfidf_balanced = tfidf_vectorizer_balanced.fit_transform(X_train_balanced)\n",
    "\n",
    "    #Use the feature set (vocabulary) from Train to vectorise the Test dataset\n",
    "    X_test_tfidf_balanced = tfidf_vectorizer_balanced.transform(X_test_balanced)\n",
    "    \n",
    "    \n",
    "    varthrs = VarianceThreshold(threshold=0.00003)\n",
    "    X_vared = varthrs.fit_transform(X_train_tfidf, y_train)\n",
    "    X_test_vared = varthrs.transform(X_test_tfidf)\n",
    "\n",
    "    # For imbalanced set\n",
    "    x2 = SelectKBest(chi2, k=2000)\n",
    "    x2.fit(X_vared,y_train)\n",
    "    X_train_x2 = x2.transform(X_vared)\n",
    "    X_test_x2 = x2.transform(X_test_vared)\n",
    "\n",
    "\n",
    "    # MNB\n",
    "    MNB = naive_bayes.MultinomialNB(alpha = 1)\n",
    "    MNB.fit(X_train_x2, y_train)\n",
    "    y_pred_MNB = MNB.predict(X_test_x2)\n",
    "    y_train_MNB = MNB.predict(X_train_x2)\n",
    "    imb_MNB_test_score.append(accuracy_score(y_test_balanced, y_pred_MNB))\n",
    "    imb_MNB_train_score.append(accuracy_score(y_train, y_train_MNB))\n",
    "\n",
    "    # LR\n",
    "    LR = LogisticRegression(C = 1,max_iter = 1000)\n",
    "    LR.fit(X_train_x2, y_train)\n",
    "    y_pred_LR = LR.predict(X_test_x2)\n",
    "    y_train_LR = LR.predict(X_train_x2)\n",
    "    imb_LR_test_score.append(accuracy_score(y_test_balanced, y_pred_LR))\n",
    "    imb_LR_train_score.append(accuracy_score(y_train, y_train_LR))\n",
    "\n",
    "    # SVM\n",
    "    SVM = SVC(C=1)\n",
    "    SVM.fit(X_train_x2, y_train)\n",
    "    y_pred_SVM = SVM.predict(X_test_x2)\n",
    "    y_train_SVM = SVM.predict(X_train_x2)\n",
    "    imb_SVM_test_score.append(accuracy_score(y_test_balanced, y_pred_SVM))\n",
    "    imb_SVM_train_score.append(accuracy_score(y_train, y_train_SVM))\n",
    "    \n",
    "    varthrs = VarianceThreshold(threshold=0.00003)\n",
    "    X_vared_balanced = varthrs.fit_transform(X_train_tfidf_balanced, y_train_balanced)\n",
    "    X_test_vared_balanced = varthrs.transform(X_test_tfidf_balanced)\n",
    "    \n",
    "    # For balanced set\n",
    "    x2_balanced = SelectKBest(chi2, k=2000)\n",
    "    x2_balanced.fit(X_vared_balanced,y_train_balanced)\n",
    "    X_train_x2_balanced = x2_balanced.transform(X_vared_balanced)\n",
    "    X_test_x2_balanced = x2_balanced.transform(X_test_vared_balanced)\n",
    "\n",
    "    #MNB\n",
    "    MNB = naive_bayes.MultinomialNB(alpha = 1)\n",
    "    MNB.fit(X_train_x2_balanced, y_train_balanced)\n",
    "    y_pred_MNB_balanced = MNB.predict(X_test_x2_balanced)\n",
    "    y_train_MNB_balanced = MNB.predict(X_train_x2_balanced)\n",
    "    MNB_test_score.append(accuracy_score(y_test_balanced, y_pred_MNB_balanced))\n",
    "    MNB_train_score.append(accuracy_score(y_train_balanced, y_train_MNB_balanced))\n",
    "\n",
    "    #LR\n",
    "    LR = LogisticRegression(C = 1,max_iter = 1000)\n",
    "    LR.fit(X_train_x2_balanced, y_train_balanced)\n",
    "    y_pred_LR_balanced = LR.predict(X_test_x2_balanced)\n",
    "    y_train_LR_balanced = LR.predict(X_train_x2_balanced)\n",
    "    LR_test_score.append(accuracy_score(y_test_balanced, y_pred_LR_balanced))\n",
    "    LR_train_score.append(accuracy_score(y_train_balanced, y_train_LR_balanced))\n",
    "\n",
    "    #SVM\n",
    "    SVM = SVC(C=1)\n",
    "    SVM.fit(X_train_x2_balanced, y_train_balanced)\n",
    "    y_pred_SVM_balanced = SVM.predict(X_test_x2_balanced)\n",
    "    y_train_SVM_balanced = SVM.predict(X_train_x2_balanced)\n",
    "    SVM_test_score.append(accuracy_score(y_test_balanced, y_pred_SVM_balanced))\n",
    "    SVM_train_score.append(accuracy_score(y_train_balanced, y_train_SVM_balanced))\n",
    "\n",
    "    "
   ]
  },
  {
   "cell_type": "markdown",
   "id": "a437d215",
   "metadata": {},
   "source": [
    "Plot the learning curves"
   ]
  },
  {
   "cell_type": "code",
   "execution_count": 29,
   "id": "7ea2e888",
   "metadata": {
    "scrolled": false
   },
   "outputs": [
    {
     "data": {
      "text/plain": [
       "[]"
      ]
     },
     "execution_count": 29,
     "metadata": {},
     "output_type": "execute_result"
    },
    {
     "data": {
      "image/png": "[encoded data removed]",
      "text/plain": [
       "<Figure size 432x288 with 1 Axes>"
      ]
     },
     "metadata": {
      "needs_background": "light"
     },
     "output_type": "display_data"
    }
   ],
   "source": [
    "xs = [0.1, 0.2, 0.3, 0.4, 0.5, 0.6, 0.7, 0.8]\n",
    "plt.plot(xs, imb_MNB_test_score, label = 'test score')\n",
    "plt.plot(xs, imb_MNB_train_score, label = 'train score')\n",
    "plt.xlabel('Train size')\n",
    "plt.ylabel('Score')\n",
    "plt.legend()\n",
    "plt.grid()\n",
    "plt.title(\"Multinominal Naive Bayes Learning Curve on imbalanced train set\")\n",
    "plt.savefig(\"imb_MNB_learningcurve.png\", dpi = 1000)\n",
    "plt.plot()"
   ]
  },
  {
   "cell_type": "code",
   "execution_count": 30,
   "id": "e133a8ed",
   "metadata": {},
   "outputs": [
    {
     "data": {
      "text/plain": [
       "[]"
      ]
     },
     "execution_count": 30,
     "metadata": {},
     "output_type": "execute_result"
    },
    {
     "data": {
      "image/png": "[encoded data removed]",
      "text/plain": [
       "<Figure size 432x288 with 1 Axes>"
      ]
     },
     "metadata": {
      "needs_background": "light"
     },
     "output_type": "display_data"
    }
   ],
   "source": [
    "xs = [0.1, 0.2, 0.3, 0.4, 0.5, 0.6, 0.7, 0.8]\n",
    "plt.plot(xs, imb_LR_test_score, label = 'test score')\n",
    "plt.plot(xs, imb_LR_train_score, label = 'train score')\n",
    "plt.xlabel('Train size')\n",
    "plt.ylabel('Score')\n",
    "plt.legend()\n",
    "plt.grid()\n",
    "plt.title(\"Logistic Regression Learning Curve on imbalanced train set\")\n",
    "plt.savefig(\"imb_LR_learningcurve.png\", dpi = 1000)\n",
    "plt.plot()"
   ]
  },
  {
   "cell_type": "code",
   "execution_count": 31,
   "id": "905ba2b9",
   "metadata": {},
   "outputs": [
    {
     "data": {
      "text/plain": [
       "[]"
      ]
     },
     "execution_count": 31,
     "metadata": {},
     "output_type": "execute_result"
    },
    {
     "data": {
      "image/png": "[encoded data removed]",
      "text/plain": [
       "<Figure size 432x288 with 1 Axes>"
      ]
     },
     "metadata": {
      "needs_background": "light"
     },
     "output_type": "display_data"
    }
   ],
   "source": [
    "xs = [0.1, 0.2, 0.3, 0.4, 0.5, 0.6, 0.7, 0.8]\n",
    "plt.plot(xs, imb_SVM_test_score, label = 'test score')\n",
    "plt.plot(xs, imb_SVM_train_score, label = 'train score')\n",
    "plt.xlabel('Train size')\n",
    "plt.ylabel('Score')\n",
    "plt.legend()\n",
    "plt.grid()\n",
    "plt.title(\"Support Vector Machine Learning Curve on imbalanced train set\")\n",
    "plt.savefig(\"imb_SVM_learningcurve.png\", dpi = 1000)\n",
    "plt.plot()"
   ]
  },
  {
   "cell_type": "code",
   "execution_count": 32,
   "id": "97115688",
   "metadata": {
    "scrolled": true
   },
   "outputs": [
    {
     "data": {
      "text/plain": [
       "[]"
      ]
     },
     "execution_count": 32,
     "metadata": {},
     "output_type": "execute_result"
    },
    {
     "data": {
      "image/png": "[encoded data removed]",
      "text/plain": [
       "<Figure size 432x288 with 1 Axes>"
      ]
     },
     "metadata": {
      "needs_background": "light"
     },
     "output_type": "display_data"
    }
   ],
   "source": [
    "xs = [0.1, 0.2, 0.3, 0.4, 0.5, 0.6, 0.7, 0.8]\n",
    "plt.plot(xs, MNB_test_score, label = 'test score')\n",
    "plt.plot(xs, MNB_train_score, label = 'train score')\n",
    "plt.xlabel('Train size')\n",
    "plt.ylabel('Score')\n",
    "plt.legend()\n",
    "plt.grid()\n",
    "plt.title(\"Multinominal Naive Bayes Learning Curve on balanced train set\")\n",
    "plt.savefig(\"MNB_learningcurve.png\", dpi = 1000)\n",
    "plt.plot()"
   ]
  },
  {
   "cell_type": "code",
   "execution_count": 33,
   "id": "fb715b1d",
   "metadata": {},
   "outputs": [
    {
     "data": {
      "text/plain": [
       "[]"
      ]
     },
     "execution_count": 33,
     "metadata": {},
     "output_type": "execute_result"
    },
    {
     "data": {
      "image/png": "[encoded data removed]",
      "text/plain": [
       "<Figure size 432x288 with 1 Axes>"
      ]
     },
     "metadata": {
      "needs_background": "light"
     },
     "output_type": "display_data"
    }
   ],
   "source": [
    "xs = [0.1, 0.2, 0.3, 0.4, 0.5, 0.6, 0.7, 0.8]\n",
    "plt.plot(xs, LR_test_score, label = 'test score')\n",
    "plt.plot(xs, LR_train_score, label = 'train score')\n",
    "plt.xlabel('Train size')\n",
    "plt.ylabel('Score')\n",
    "plt.legend()\n",
    "plt.grid()\n",
    "plt.title(\"Logistic Regression Learning Curve on balanced train set\")\n",
    "plt.savefig(\"LR_learningcurve.png\", dpi = 1000)\n",
    "plt.plot()"
   ]
  },
  {
   "cell_type": "code",
   "execution_count": 34,
   "id": "edd49a93",
   "metadata": {},
   "outputs": [
    {
     "data": {
      "text/plain": [
       "[]"
      ]
     },
     "execution_count": 34,
     "metadata": {},
     "output_type": "execute_result"
    },
    {
     "data": {
      "image/png": "[encoded data removed]",
      "text/plain": [
       "<Figure size 432x288 with 1 Axes>"
      ]
     },
     "metadata": {
      "needs_background": "light"
     },
     "output_type": "display_data"
    }
   ],
   "source": [
    "xs = [0.1, 0.2, 0.3, 0.4, 0.5, 0.6, 0.7, 0.8]\n",
    "plt.plot(xs, MNB_test_score, label = 'test score')\n",
    "plt.plot(xs, MNB_train_score, label = 'train score')\n",
    "plt.xlabel('Train size')\n",
    "plt.ylabel('Score')\n",
    "plt.legend()\n",
    "plt.grid()\n",
    "plt.title(\"Support Vector Machine Learning Curve on balanced train set\")\n",
    "plt.savefig(\"SVM_learningcurve.png\", dpi = 1000)\n",
    "plt.plot()"
   ]
  },
  {
   "cell_type": "code",
   "execution_count": null,
   "id": "f0e68788",
   "metadata": {},
   "outputs": [],
   "source": []
  },
  {
   "cell_type": "code",
   "execution_count": null,
   "id": "c7837a83",
   "metadata": {},
   "outputs": [],
   "source": []
  },
  {
   "cell_type": "code",
   "execution_count": null,
   "id": "62885f46",
   "metadata": {},
   "outputs": [],
   "source": []
  },
  {
   "cell_type": "code",
   "execution_count": null,
   "id": "e5383744",
   "metadata": {},
   "outputs": [],
   "source": []
  },
  {
   "cell_type": "code",
   "execution_count": null,
   "id": "6eb658aa",
   "metadata": {},
   "outputs": [],
   "source": []
  }
 ],
 "metadata": {
  "kernelspec": {
   "display_name": "Python 3 (ipykernel)",
   "language": "python",
   "name": "python3"
  },
  "language_info": {
   "codemirror_mode": {
    "name": "ipython",
    "version": 3
   },
   "file_extension": ".py",
   "mimetype": "text/x-python",
   "name": "python",
   "nbconvert_exporter": "python",
   "pygments_lexer": "ipython3",
   "version": "3.9.7"
  }
 },
 "nbformat": 4,
 "nbformat_minor": 5
}
